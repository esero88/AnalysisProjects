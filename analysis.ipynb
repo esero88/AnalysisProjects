{
 "cells": [
  {
   "cell_type": "code",
   "execution_count": 3,
   "metadata": {},
   "outputs": [],
   "source": [
    "import numpy as np\n",
    "import pandas as pd\n",
    "import matplotlib.pyplot as plt\n",
    "import seaborn as sns"
   ]
  },
  {
   "cell_type": "code",
   "execution_count": 4,
   "metadata": {},
   "outputs": [],
   "source": [
    "pokemondb = pd.read_csv(\"database/PokemonDB.csv\") ## Pokemon Database is converted to pandas dataframe"
   ]
  },
  {
   "cell_type": "code",
   "execution_count": 5,
   "metadata": {},
   "outputs": [
    {
     "data": {
      "text/html": [
       "<div>\n",
       "<style scoped>\n",
       "    .dataframe tbody tr th:only-of-type {\n",
       "        vertical-align: middle;\n",
       "    }\n",
       "\n",
       "    .dataframe tbody tr th {\n",
       "        vertical-align: top;\n",
       "    }\n",
       "\n",
       "    .dataframe thead th {\n",
       "        text-align: right;\n",
       "    }\n",
       "</style>\n",
       "<table border=\"1\" class=\"dataframe\">\n",
       "  <thead>\n",
       "    <tr style=\"text-align: right;\">\n",
       "      <th></th>\n",
       "      <th>Name</th>\n",
       "      <th>Variation</th>\n",
       "      <th>Type1</th>\n",
       "      <th>Type2</th>\n",
       "      <th>Total</th>\n",
       "      <th>HP</th>\n",
       "      <th>Attack</th>\n",
       "      <th>Defense</th>\n",
       "      <th>Sp.Atk</th>\n",
       "      <th>Sp.Def</th>\n",
       "      <th>Speed</th>\n",
       "    </tr>\n",
       "  </thead>\n",
       "  <tbody>\n",
       "    <tr>\n",
       "      <th>0</th>\n",
       "      <td>Bulbasaur</td>\n",
       "      <td>NaN</td>\n",
       "      <td>Grass</td>\n",
       "      <td>Poison</td>\n",
       "      <td>318</td>\n",
       "      <td>45</td>\n",
       "      <td>49</td>\n",
       "      <td>49</td>\n",
       "      <td>65</td>\n",
       "      <td>65</td>\n",
       "      <td>45</td>\n",
       "    </tr>\n",
       "    <tr>\n",
       "      <th>1</th>\n",
       "      <td>Ivysaur</td>\n",
       "      <td>NaN</td>\n",
       "      <td>Grass</td>\n",
       "      <td>Poison</td>\n",
       "      <td>405</td>\n",
       "      <td>60</td>\n",
       "      <td>62</td>\n",
       "      <td>63</td>\n",
       "      <td>80</td>\n",
       "      <td>80</td>\n",
       "      <td>60</td>\n",
       "    </tr>\n",
       "    <tr>\n",
       "      <th>2</th>\n",
       "      <td>Venusaur</td>\n",
       "      <td>NaN</td>\n",
       "      <td>Grass</td>\n",
       "      <td>Poison</td>\n",
       "      <td>525</td>\n",
       "      <td>80</td>\n",
       "      <td>82</td>\n",
       "      <td>83</td>\n",
       "      <td>100</td>\n",
       "      <td>100</td>\n",
       "      <td>80</td>\n",
       "    </tr>\n",
       "    <tr>\n",
       "      <th>3</th>\n",
       "      <td>Venusaur</td>\n",
       "      <td>Mega</td>\n",
       "      <td>Grass</td>\n",
       "      <td>Poison</td>\n",
       "      <td>625</td>\n",
       "      <td>80</td>\n",
       "      <td>100</td>\n",
       "      <td>123</td>\n",
       "      <td>122</td>\n",
       "      <td>120</td>\n",
       "      <td>80</td>\n",
       "    </tr>\n",
       "    <tr>\n",
       "      <th>4</th>\n",
       "      <td>Charmander</td>\n",
       "      <td>NaN</td>\n",
       "      <td>Fire</td>\n",
       "      <td>NaN</td>\n",
       "      <td>309</td>\n",
       "      <td>39</td>\n",
       "      <td>52</td>\n",
       "      <td>43</td>\n",
       "      <td>60</td>\n",
       "      <td>50</td>\n",
       "      <td>65</td>\n",
       "    </tr>\n",
       "  </tbody>\n",
       "</table>\n",
       "</div>"
      ],
      "text/plain": [
       "         Name Variation  Type1   Type2  Total  HP  Attack  Defense  Sp.Atk  \\\n",
       "0   Bulbasaur       NaN  Grass  Poison    318  45      49       49      65   \n",
       "1     Ivysaur       NaN  Grass  Poison    405  60      62       63      80   \n",
       "2    Venusaur       NaN  Grass  Poison    525  80      82       83     100   \n",
       "3    Venusaur     Mega   Grass  Poison    625  80     100      123     122   \n",
       "4  Charmander       NaN   Fire     NaN    309  39      52       43      60   \n",
       "\n",
       "   Sp.Def  Speed  \n",
       "0      65     45  \n",
       "1      80     60  \n",
       "2     100     80  \n",
       "3     120     80  \n",
       "4      50     65  "
      ]
     },
     "execution_count": 5,
     "metadata": {},
     "output_type": "execute_result"
    }
   ],
   "source": [
    "pokemondb.head()"
   ]
  },
  {
   "cell_type": "code",
   "execution_count": 6,
   "metadata": {},
   "outputs": [
    {
     "name": "stdout",
     "output_type": "stream",
     "text": [
      "<class 'pandas.core.frame.DataFrame'>\n",
      "RangeIndex: 1071 entries, 0 to 1070\n",
      "Data columns (total 11 columns):\n",
      " #   Column     Non-Null Count  Dtype \n",
      "---  ------     --------------  ----- \n",
      " 0   Name       1071 non-null   object\n",
      " 1   Variation  197 non-null    object\n",
      " 2   Type1      1071 non-null   object\n",
      " 3   Type2      579 non-null    object\n",
      " 4   Total      1071 non-null   int64 \n",
      " 5   HP         1071 non-null   int64 \n",
      " 6   Attack     1071 non-null   int64 \n",
      " 7   Defense    1071 non-null   int64 \n",
      " 8   Sp.Atk     1071 non-null   int64 \n",
      " 9   Sp.Def     1071 non-null   int64 \n",
      " 10  Speed      1071 non-null   int64 \n",
      "dtypes: int64(7), object(4)\n",
      "memory usage: 92.2+ KB\n"
     ]
    }
   ],
   "source": [
    "pokemondb.info()"
   ]
  },
  {
   "cell_type": "code",
   "execution_count": 7,
   "metadata": {},
   "outputs": [
    {
     "data": {
      "text/plain": [
       "Name         904\n",
       "Variation     87\n",
       "Type1         19\n",
       "Type2         18\n",
       "Total        216\n",
       "HP           103\n",
       "Attack       123\n",
       "Defense      114\n",
       "Sp.Atk       121\n",
       "Sp.Def       107\n",
       "Speed        127\n",
       "dtype: int64"
      ]
     },
     "execution_count": 7,
     "metadata": {},
     "output_type": "execute_result"
    }
   ],
   "source": [
    "pokemondb.nunique() ## Type1 19 different options"
   ]
  },
  {
   "cell_type": "code",
   "execution_count": 8,
   "metadata": {},
   "outputs": [
    {
     "data": {
      "text/plain": [
       "array(['Grass', 'Fire', 'Water', 'Bug', 'Normal', 'Dark', 'Poison',\n",
       "       'Electric', 'Ground', 'Ice', 'Fairy', 'Steel', 'Fighting',\n",
       "       'Psychic', 'Rock', 'Ghost', 'Dragon', 'Flying', 'Eletric'],\n",
       "      dtype=object)"
      ]
     },
     "execution_count": 8,
     "metadata": {},
     "output_type": "execute_result"
    }
   ],
   "source": [
    "pokemondb.Type1.unique() ## These are the options for Type1"
   ]
  },
  {
   "cell_type": "code",
   "execution_count": 9,
   "metadata": {},
   "outputs": [
    {
     "data": {
      "text/plain": [
       "Water       12.978525\n",
       "Normal      11.111111\n",
       "Grass        8.683473\n",
       "Bug          7.656396\n",
       "Psychic      7.469655\n",
       "Fire         6.349206\n",
       "Electric     5.788982\n",
       "Rock         5.508870\n",
       "Dark         4.481793\n",
       "Poison       4.014939\n",
       "Dragon       4.014939\n",
       "Ghost        3.921569\n",
       "Fighting     3.921569\n",
       "Ground       3.828198\n",
       "Ice          3.734827\n",
       "Steel        3.454715\n",
       "Fairy        2.240896\n",
       "Flying       0.746965\n",
       "Eletric      0.093371\n",
       "Name: Type1, dtype: float64"
      ]
     },
     "execution_count": 9,
     "metadata": {},
     "output_type": "execute_result"
    }
   ],
   "source": [
    "pokemondb['Type1'].value_counts(normalize=True)*100 ## frequency table by out of 100 percent. It seems like water type is the most frequent pokemon."
   ]
  },
  {
   "cell_type": "code",
   "execution_count": 10,
   "metadata": {},
   "outputs": [],
   "source": [
    "water_filter = pokemondb.Type1 == 'Water' ## water type pokemon filter"
   ]
  },
  {
   "cell_type": "code",
   "execution_count": 12,
   "metadata": {},
   "outputs": [
    {
     "data": {
      "text/html": [
       "<div>\n",
       "<style scoped>\n",
       "    .dataframe tbody tr th:only-of-type {\n",
       "        vertical-align: middle;\n",
       "    }\n",
       "\n",
       "    .dataframe tbody tr th {\n",
       "        vertical-align: top;\n",
       "    }\n",
       "\n",
       "    .dataframe thead th {\n",
       "        text-align: right;\n",
       "    }\n",
       "</style>\n",
       "<table border=\"1\" class=\"dataframe\">\n",
       "  <thead>\n",
       "    <tr style=\"text-align: right;\">\n",
       "      <th></th>\n",
       "      <th>index</th>\n",
       "      <th>Name</th>\n",
       "      <th>Variation</th>\n",
       "      <th>Type1</th>\n",
       "      <th>Type2</th>\n",
       "      <th>Total</th>\n",
       "      <th>HP</th>\n",
       "      <th>Attack</th>\n",
       "      <th>Defense</th>\n",
       "      <th>Sp.Atk</th>\n",
       "      <th>Sp.Def</th>\n",
       "      <th>Speed</th>\n",
       "    </tr>\n",
       "  </thead>\n",
       "  <tbody>\n",
       "    <tr>\n",
       "      <th>0</th>\n",
       "      <td>9</td>\n",
       "      <td>Squirtle</td>\n",
       "      <td>NaN</td>\n",
       "      <td>Water</td>\n",
       "      <td>NaN</td>\n",
       "      <td>314</td>\n",
       "      <td>44</td>\n",
       "      <td>48</td>\n",
       "      <td>65</td>\n",
       "      <td>50</td>\n",
       "      <td>64</td>\n",
       "      <td>43</td>\n",
       "    </tr>\n",
       "    <tr>\n",
       "      <th>1</th>\n",
       "      <td>10</td>\n",
       "      <td>Wartortle</td>\n",
       "      <td>NaN</td>\n",
       "      <td>Water</td>\n",
       "      <td>NaN</td>\n",
       "      <td>405</td>\n",
       "      <td>59</td>\n",
       "      <td>63</td>\n",
       "      <td>80</td>\n",
       "      <td>65</td>\n",
       "      <td>80</td>\n",
       "      <td>58</td>\n",
       "    </tr>\n",
       "    <tr>\n",
       "      <th>2</th>\n",
       "      <td>11</td>\n",
       "      <td>Blastoise</td>\n",
       "      <td>NaN</td>\n",
       "      <td>Water</td>\n",
       "      <td>NaN</td>\n",
       "      <td>530</td>\n",
       "      <td>79</td>\n",
       "      <td>83</td>\n",
       "      <td>100</td>\n",
       "      <td>85</td>\n",
       "      <td>105</td>\n",
       "      <td>78</td>\n",
       "    </tr>\n",
       "    <tr>\n",
       "      <th>3</th>\n",
       "      <td>12</td>\n",
       "      <td>Blastoise</td>\n",
       "      <td>Mega</td>\n",
       "      <td>Water</td>\n",
       "      <td>NaN</td>\n",
       "      <td>630</td>\n",
       "      <td>79</td>\n",
       "      <td>103</td>\n",
       "      <td>120</td>\n",
       "      <td>135</td>\n",
       "      <td>115</td>\n",
       "      <td>78</td>\n",
       "    </tr>\n",
       "    <tr>\n",
       "      <th>4</th>\n",
       "      <td>72</td>\n",
       "      <td>Psyduck</td>\n",
       "      <td>NaN</td>\n",
       "      <td>Water</td>\n",
       "      <td>NaN</td>\n",
       "      <td>320</td>\n",
       "      <td>50</td>\n",
       "      <td>52</td>\n",
       "      <td>48</td>\n",
       "      <td>65</td>\n",
       "      <td>50</td>\n",
       "      <td>55</td>\n",
       "    </tr>\n",
       "    <tr>\n",
       "      <th>...</th>\n",
       "      <td>...</td>\n",
       "      <td>...</td>\n",
       "      <td>...</td>\n",
       "      <td>...</td>\n",
       "      <td>...</td>\n",
       "      <td>...</td>\n",
       "      <td>...</td>\n",
       "      <td>...</td>\n",
       "      <td>...</td>\n",
       "      <td>...</td>\n",
       "      <td>...</td>\n",
       "      <td>...</td>\n",
       "    </tr>\n",
       "    <tr>\n",
       "      <th>134</th>\n",
       "      <td>1057</td>\n",
       "      <td>Samurott</td>\n",
       "      <td>Hisuian</td>\n",
       "      <td>Water</td>\n",
       "      <td>Dark</td>\n",
       "      <td>528</td>\n",
       "      <td>90</td>\n",
       "      <td>108</td>\n",
       "      <td>80</td>\n",
       "      <td>100</td>\n",
       "      <td>65</td>\n",
       "      <td>85</td>\n",
       "    </tr>\n",
       "    <tr>\n",
       "      <th>135</th>\n",
       "      <td>1062</td>\n",
       "      <td>Palkia</td>\n",
       "      <td>Origin</td>\n",
       "      <td>Water</td>\n",
       "      <td>Dragon</td>\n",
       "      <td>680</td>\n",
       "      <td>90</td>\n",
       "      <td>100</td>\n",
       "      <td>100</td>\n",
       "      <td>150</td>\n",
       "      <td>120</td>\n",
       "      <td>120</td>\n",
       "    </tr>\n",
       "    <tr>\n",
       "      <th>136</th>\n",
       "      <td>1066</td>\n",
       "      <td>Basculin</td>\n",
       "      <td>White-Striped</td>\n",
       "      <td>Water</td>\n",
       "      <td>NaN</td>\n",
       "      <td>460</td>\n",
       "      <td>70</td>\n",
       "      <td>92</td>\n",
       "      <td>65</td>\n",
       "      <td>80</td>\n",
       "      <td>55</td>\n",
       "      <td>98</td>\n",
       "    </tr>\n",
       "    <tr>\n",
       "      <th>137</th>\n",
       "      <td>1067</td>\n",
       "      <td>Basculegion</td>\n",
       "      <td>Male</td>\n",
       "      <td>Water</td>\n",
       "      <td>Ghost</td>\n",
       "      <td>530</td>\n",
       "      <td>120</td>\n",
       "      <td>112</td>\n",
       "      <td>65</td>\n",
       "      <td>80</td>\n",
       "      <td>75</td>\n",
       "      <td>78</td>\n",
       "    </tr>\n",
       "    <tr>\n",
       "      <th>138</th>\n",
       "      <td>1068</td>\n",
       "      <td>Basculegion</td>\n",
       "      <td>Female</td>\n",
       "      <td>Water</td>\n",
       "      <td>Ghost</td>\n",
       "      <td>530</td>\n",
       "      <td>120</td>\n",
       "      <td>92</td>\n",
       "      <td>65</td>\n",
       "      <td>100</td>\n",
       "      <td>75</td>\n",
       "      <td>78</td>\n",
       "    </tr>\n",
       "  </tbody>\n",
       "</table>\n",
       "<p>139 rows × 12 columns</p>\n",
       "</div>"
      ],
      "text/plain": [
       "     index         Name       Variation  Type1   Type2  Total   HP  Attack  \\\n",
       "0        9     Squirtle             NaN  Water     NaN    314   44      48   \n",
       "1       10    Wartortle             NaN  Water     NaN    405   59      63   \n",
       "2       11    Blastoise             NaN  Water     NaN    530   79      83   \n",
       "3       12    Blastoise            Mega  Water     NaN    630   79     103   \n",
       "4       72      Psyduck             NaN  Water     NaN    320   50      52   \n",
       "..     ...          ...             ...    ...     ...    ...  ...     ...   \n",
       "134   1057     Samurott        Hisuian   Water    Dark    528   90     108   \n",
       "135   1062       Palkia         Origin   Water  Dragon    680   90     100   \n",
       "136   1066     Basculin  White-Striped   Water     NaN    460   70      92   \n",
       "137   1067  Basculegion           Male   Water   Ghost    530  120     112   \n",
       "138   1068  Basculegion         Female   Water   Ghost    530  120      92   \n",
       "\n",
       "     Defense  Sp.Atk  Sp.Def  Speed  \n",
       "0         65      50      64     43  \n",
       "1         80      65      80     58  \n",
       "2        100      85     105     78  \n",
       "3        120     135     115     78  \n",
       "4         48      65      50     55  \n",
       "..       ...     ...     ...    ...  \n",
       "134       80     100      65     85  \n",
       "135      100     150     120    120  \n",
       "136       65      80      55     98  \n",
       "137       65      80      75     78  \n",
       "138       65     100      75     78  \n",
       "\n",
       "[139 rows x 12 columns]"
      ]
     },
     "execution_count": 12,
     "metadata": {},
     "output_type": "execute_result"
    }
   ],
   "source": [
    "pokemondb[water_filter].reset_index() ## 139 is total count of water type pokemons"
   ]
  },
  {
   "cell_type": "code",
   "execution_count": 35,
   "metadata": {},
   "outputs": [
    {
     "data": {
      "text/plain": [
       "<function matplotlib.pyplot.show(close=None, block=None)>"
      ]
     },
     "execution_count": 35,
     "metadata": {},
     "output_type": "execute_result"
    },
    {
     "data": {
      "image/png": "[encoded data removed]",
      "text/plain": [
       "<Figure size 432x288 with 1 Axes>"
      ]
     },
     "metadata": {},
     "output_type": "display_data"
    }
   ],
   "source": [
    "CountType = pokemondb['Type1'].value_counts()\n",
    "Labels = pokemondb.Type1.unique()\n",
    "plt.pie(CountType,labels=Labels,radius=3)\n",
    "plt.show"
   ]
  },
  {
   "cell_type": "code",
   "execution_count": null,
   "metadata": {},
   "outputs": [],
   "source": []
  },
  {
   "cell_type": "code",
   "execution_count": null,
   "metadata": {},
   "outputs": [],
   "source": []
  },
  {
   "cell_type": "code",
   "execution_count": null,
   "metadata": {},
   "outputs": [],
   "source": []
  },
  {
   "cell_type": "code",
   "execution_count": null,
   "metadata": {},
   "outputs": [],
   "source": []
  },
  {
   "cell_type": "code",
   "execution_count": null,
   "metadata": {},
   "outputs": [],
   "source": []
  },
  {
   "cell_type": "code",
   "execution_count": null,
   "metadata": {},
   "outputs": [],
   "source": []
  },
  {
   "cell_type": "code",
   "execution_count": null,
   "metadata": {},
   "outputs": [],
   "source": []
  },
  {
   "cell_type": "code",
   "execution_count": null,
   "metadata": {},
   "outputs": [],
   "source": []
  },
  {
   "cell_type": "code",
   "execution_count": null,
   "metadata": {},
   "outputs": [],
   "source": []
  },
  {
   "cell_type": "code",
   "execution_count": null,
   "metadata": {},
   "outputs": [],
   "source": []
  },
  {
   "cell_type": "code",
   "execution_count": null,
   "metadata": {},
   "outputs": [],
   "source": []
  },
  {
   "cell_type": "code",
   "execution_count": null,
   "metadata": {},
   "outputs": [],
   "source": []
  }
 ],
 "metadata": {
  "interpreter": {
   "hash": "7c26dd44531c8b78843c419254953054c417bb60abb9a3b6c94d4aa288309669"
  },
  "kernelspec": {
   "display_name": "Python 3.9.7 ('Kodluyoruz')",
   "language": "python",
   "name": "python3"
  },
  "language_info": {
   "codemirror_mode": {
    "name": "ipython",
    "version": 3
   },
   "file_extension": ".py",
   "mimetype": "text/x-python",
   "name": "python",
   "nbconvert_exporter": "python",
   "pygments_lexer": "ipython3",
   "version": "3.9.7"
  },
  "orig_nbformat": 4
 },
 "nbformat": 4,
 "nbformat_minor": 2
}
